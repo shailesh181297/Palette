{
 "cells": [
  {
   "cell_type": "code",
   "execution_count": 249,
   "id": "34d96760-35a6-46f0-8566-e1ddddc46154",
   "metadata": {},
   "outputs": [],
   "source": [
    "os.chdir('/Users/shailesh/Stuff/Eloise/')  # New working directory"
   ]
  },
  {
   "cell_type": "code",
   "execution_count": 251,
   "id": "61cf06b3-17f7-47bf-9797-5804619d27be",
   "metadata": {},
   "outputs": [
    {
     "name": "stdout",
     "output_type": "stream",
     "text": [
      "Updated palette saved to (palette)_(face).png\n"
     ]
    }
   ],
   "source": [
    "from PIL import Image\n",
    "def changeface(palette, face, rows, cols):\n",
    "    # Load the color palette image (assuming it's a grid of squares)\n",
    "    palette_image_path = f'/Users/shailesh/Stuff/Eloise/{palette}.png'  # Path to the palette image\n",
    "    palette_image = Image.open(palette_image_path)\n",
    "    \n",
    "    # Load the new face image to be placed on each square\n",
    "    new_face_image_path = f'/Users/shailesh/Stuff/Eloise/{face}.png'  # Path to the new face image\n",
    "    new_face_image = Image.open(new_face_image_path).convert(\"RGBA\")\n",
    "    \n",
    "    # Define the size of each square in the palette (assuming all squares are the same size)\n",
    "    square_size = (800, 800)  # Width, height of each square (adjust based on your palette)\n",
    "    \n",
    "    face_size = (500,500)\n",
    "    \n",
    "    palette_width, palette_height = palette_image.size\n",
    "    \n",
    "    \n",
    "    # Resize the new face image to match the square size\n",
    "    new_face_image_resized = new_face_image.resize(face_size, Image.Resampling.LANCZOS)\n",
    "    \n",
    "    # Define the grid layout of the palette (assuming a 5x8 grid for 40 squares)\n",
    "    rows = 8\n",
    "    cols = 8\n",
    "    \n",
    "    gap_x = (square_size[0] - face_size[0]) // 2  # Horizontal gap\n",
    "    gap_y = (square_size[1] - face_size[1]) // 2  # Vertical gap\n",
    "    \n",
    "    rows = palette_height // square_size[1]\n",
    "    cols = palette_width // square_size[0]\n",
    "    \n",
    "    # Loop through each square in the palette and replace the face\n",
    "    for row in range(rows):\n",
    "        for col in range(cols):\n",
    "            # Calculate the top-left corner of the current square\n",
    "            left = col * square_size[0] + gap_x  # Add horizontal gap\n",
    "            top = row * square_size[1] + gap_y  # Add vertical gap\n",
    "            \n",
    "            # Ensure that the face cutout doesn't go beyond the palette boundaries\n",
    "            if left + face_size[0] <= palette_width and top + face_size[1] <= palette_height:\n",
    "                # Paste the new face with transparency using the image as its own mask\n",
    "                palette_image.paste(new_face_image_resized, (left, top), new_face_image_resized)\n",
    "\n",
    "    # Save the updated palette image\n",
    "    output_image_path = f'{palette} {face}.png'\n",
    "    palette_image.save(output_image_path)\n",
    "\n",
    "print(f\"Updated palette saved to {output_image_path}\")\n"
   ]
  },
  {
   "cell_type": "code",
   "execution_count": 259,
   "id": "5ad71f45-4c8e-4f08-ab06-99a2652584e4",
   "metadata": {},
   "outputs": [],
   "source": [
    "changeface(palette = 'Summer', face='Beck', rows=8, cols=8)"
   ]
  }
 ],
 "metadata": {
  "kernelspec": {
   "display_name": "Python 3 (ipykernel)",
   "language": "python",
   "name": "python3"
  },
  "language_info": {
   "codemirror_mode": {
    "name": "ipython",
    "version": 3
   },
   "file_extension": ".py",
   "mimetype": "text/x-python",
   "name": "python",
   "nbconvert_exporter": "python",
   "pygments_lexer": "ipython3",
   "version": "3.12.4"
  }
 },
 "nbformat": 4,
 "nbformat_minor": 5
}
